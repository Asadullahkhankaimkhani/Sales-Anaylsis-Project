{
 "cells": [
  {
   "cell_type": "code",
   "execution_count": 3,
   "metadata": {},
   "outputs": [],
   "source": [
    "import pandas as pd\n",
    "import os"
   ]
  },
  {
   "cell_type": "markdown",
   "metadata": {},
   "source": [
    "### Task # Merge all 12 month files into one file"
   ]
  },
  {
   "cell_type": "code",
   "execution_count": 4,
   "metadata": {},
   "outputs": [],
   "source": [
    "df = pd.read_csv('salesdata/Sales_April_2019.csv')\n",
    "# finding the dir\n",
    "files = [file for file in os.listdir('salesdata')]\n",
    "all_months_data = pd.DataFrame()\n",
    "for file in files:\n",
    "    df = pd.read_csv('salesdata/'+file)\n",
    "    all_month_data = pd.concat([all_months_data,df])\n",
    "\n",
    "all_month_data.to_csv('all_data.csv',index=False)\n"
   ]
  },
  {
   "cell_type": "markdown",
   "metadata": {},
   "source": [
    "#### Read Updated dataframe"
   ]
  },
  {
   "cell_type": "code",
   "execution_count": 5,
   "metadata": {},
   "outputs": [
    {
     "data": {
      "text/html": [
       "<div>\n",
       "<style scoped>\n",
       "    .dataframe tbody tr th:only-of-type {\n",
       "        vertical-align: middle;\n",
       "    }\n",
       "\n",
       "    .dataframe tbody tr th {\n",
       "        vertical-align: top;\n",
       "    }\n",
       "\n",
       "    .dataframe thead th {\n",
       "        text-align: right;\n",
       "    }\n",
       "</style>\n",
       "<table border=\"1\" class=\"dataframe\">\n",
       "  <thead>\n",
       "    <tr style=\"text-align: right;\">\n",
       "      <th></th>\n",
       "      <th>Order ID</th>\n",
       "      <th>Product</th>\n",
       "      <th>Quantity Ordered</th>\n",
       "      <th>Price Each</th>\n",
       "      <th>Order Date</th>\n",
       "      <th>Purchase Address</th>\n",
       "    </tr>\n",
       "  </thead>\n",
       "  <tbody>\n",
       "    <tr>\n",
       "      <th>0</th>\n",
       "      <td>248151</td>\n",
       "      <td>AA Batteries (4-pack)</td>\n",
       "      <td>4</td>\n",
       "      <td>3.84</td>\n",
       "      <td>09/17/19 14:44</td>\n",
       "      <td>380 North St, Los Angeles, CA 90001</td>\n",
       "    </tr>\n",
       "    <tr>\n",
       "      <th>1</th>\n",
       "      <td>248152</td>\n",
       "      <td>USB-C Charging Cable</td>\n",
       "      <td>2</td>\n",
       "      <td>11.95</td>\n",
       "      <td>09/29/19 10:19</td>\n",
       "      <td>511 8th St, Austin, TX 73301</td>\n",
       "    </tr>\n",
       "    <tr>\n",
       "      <th>2</th>\n",
       "      <td>248153</td>\n",
       "      <td>USB-C Charging Cable</td>\n",
       "      <td>1</td>\n",
       "      <td>11.95</td>\n",
       "      <td>09/16/19 17:48</td>\n",
       "      <td>151 Johnson St, Los Angeles, CA 90001</td>\n",
       "    </tr>\n",
       "    <tr>\n",
       "      <th>3</th>\n",
       "      <td>248154</td>\n",
       "      <td>27in FHD Monitor</td>\n",
       "      <td>1</td>\n",
       "      <td>149.99</td>\n",
       "      <td>09/27/19 07:52</td>\n",
       "      <td>355 Hickory St, Seattle, WA 98101</td>\n",
       "    </tr>\n",
       "    <tr>\n",
       "      <th>4</th>\n",
       "      <td>248155</td>\n",
       "      <td>USB-C Charging Cable</td>\n",
       "      <td>1</td>\n",
       "      <td>11.95</td>\n",
       "      <td>09/01/19 19:03</td>\n",
       "      <td>125 5th St, Atlanta, GA 30301</td>\n",
       "    </tr>\n",
       "    <tr>\n",
       "      <th>...</th>\n",
       "      <td>...</td>\n",
       "      <td>...</td>\n",
       "      <td>...</td>\n",
       "      <td>...</td>\n",
       "      <td>...</td>\n",
       "      <td>...</td>\n",
       "    </tr>\n",
       "    <tr>\n",
       "      <th>11681</th>\n",
       "      <td>259353</td>\n",
       "      <td>AAA Batteries (4-pack)</td>\n",
       "      <td>3</td>\n",
       "      <td>2.99</td>\n",
       "      <td>09/17/19 20:56</td>\n",
       "      <td>840 Highland St, Los Angeles, CA 90001</td>\n",
       "    </tr>\n",
       "    <tr>\n",
       "      <th>11682</th>\n",
       "      <td>259354</td>\n",
       "      <td>iPhone</td>\n",
       "      <td>1</td>\n",
       "      <td>700</td>\n",
       "      <td>09/01/19 16:00</td>\n",
       "      <td>216 Dogwood St, San Francisco, CA 94016</td>\n",
       "    </tr>\n",
       "    <tr>\n",
       "      <th>11683</th>\n",
       "      <td>259355</td>\n",
       "      <td>iPhone</td>\n",
       "      <td>1</td>\n",
       "      <td>700</td>\n",
       "      <td>09/23/19 07:39</td>\n",
       "      <td>220 12th St, San Francisco, CA 94016</td>\n",
       "    </tr>\n",
       "    <tr>\n",
       "      <th>11684</th>\n",
       "      <td>259356</td>\n",
       "      <td>34in Ultrawide Monitor</td>\n",
       "      <td>1</td>\n",
       "      <td>379.99</td>\n",
       "      <td>09/19/19 17:30</td>\n",
       "      <td>511 Forest St, San Francisco, CA 94016</td>\n",
       "    </tr>\n",
       "    <tr>\n",
       "      <th>11685</th>\n",
       "      <td>259357</td>\n",
       "      <td>USB-C Charging Cable</td>\n",
       "      <td>1</td>\n",
       "      <td>11.95</td>\n",
       "      <td>09/30/19 00:18</td>\n",
       "      <td>250 Meadow St, San Francisco, CA 94016</td>\n",
       "    </tr>\n",
       "  </tbody>\n",
       "</table>\n",
       "<p>11686 rows × 6 columns</p>\n",
       "</div>"
      ],
      "text/plain": [
       "      Order ID                 Product Quantity Ordered Price Each  \\\n",
       "0       248151   AA Batteries (4-pack)                4       3.84   \n",
       "1       248152    USB-C Charging Cable                2      11.95   \n",
       "2       248153    USB-C Charging Cable                1      11.95   \n",
       "3       248154        27in FHD Monitor                1     149.99   \n",
       "4       248155    USB-C Charging Cable                1      11.95   \n",
       "...        ...                     ...              ...        ...   \n",
       "11681   259353  AAA Batteries (4-pack)                3       2.99   \n",
       "11682   259354                  iPhone                1        700   \n",
       "11683   259355                  iPhone                1        700   \n",
       "11684   259356  34in Ultrawide Monitor                1     379.99   \n",
       "11685   259357    USB-C Charging Cable                1      11.95   \n",
       "\n",
       "           Order Date                         Purchase Address  \n",
       "0      09/17/19 14:44      380 North St, Los Angeles, CA 90001  \n",
       "1      09/29/19 10:19             511 8th St, Austin, TX 73301  \n",
       "2      09/16/19 17:48    151 Johnson St, Los Angeles, CA 90001  \n",
       "3      09/27/19 07:52        355 Hickory St, Seattle, WA 98101  \n",
       "4      09/01/19 19:03            125 5th St, Atlanta, GA 30301  \n",
       "...               ...                                      ...  \n",
       "11681  09/17/19 20:56   840 Highland St, Los Angeles, CA 90001  \n",
       "11682  09/01/19 16:00  216 Dogwood St, San Francisco, CA 94016  \n",
       "11683  09/23/19 07:39     220 12th St, San Francisco, CA 94016  \n",
       "11684  09/19/19 17:30   511 Forest St, San Francisco, CA 94016  \n",
       "11685  09/30/19 00:18   250 Meadow St, San Francisco, CA 94016  \n",
       "\n",
       "[11686 rows x 6 columns]"
      ]
     },
     "execution_count": 5,
     "metadata": {},
     "output_type": "execute_result"
    }
   ],
   "source": [
    "all_data = pd.read_csv('all_data.csv')\n",
    "all_data"
   ]
  },
  {
   "cell_type": "markdown",
   "metadata": {},
   "source": [
    "### Clean Up the data"
   ]
  },
  {
   "cell_type": "code",
   "execution_count": 10,
   "metadata": {},
   "outputs": [
    {
     "data": {
      "text/html": [
       "<div>\n",
       "<style scoped>\n",
       "    .dataframe tbody tr th:only-of-type {\n",
       "        vertical-align: middle;\n",
       "    }\n",
       "\n",
       "    .dataframe tbody tr th {\n",
       "        vertical-align: top;\n",
       "    }\n",
       "\n",
       "    .dataframe thead th {\n",
       "        text-align: right;\n",
       "    }\n",
       "</style>\n",
       "<table border=\"1\" class=\"dataframe\">\n",
       "  <thead>\n",
       "    <tr style=\"text-align: right;\">\n",
       "      <th></th>\n",
       "      <th>Order ID</th>\n",
       "      <th>Product</th>\n",
       "      <th>Quantity Ordered</th>\n",
       "      <th>Price Each</th>\n",
       "      <th>Order Date</th>\n",
       "      <th>Purchase Address</th>\n",
       "    </tr>\n",
       "  </thead>\n",
       "  <tbody>\n",
       "  </tbody>\n",
       "</table>\n",
       "</div>"
      ],
      "text/plain": [
       "Empty DataFrame\n",
       "Columns: [Order ID, Product, Quantity Ordered, Price Each, Order Date, Purchase Address]\n",
       "Index: []"
      ]
     },
     "execution_count": 10,
     "metadata": {},
     "output_type": "execute_result"
    }
   ],
   "source": [
    "#Finding NaN rows\n",
    "nan_df = all_data[all_data.isna().any(axis=1)]\n",
    "all_data =  all_data.dropna(how='all')"
   ]
  }
 ],
 "metadata": {
  "kernelspec": {
   "display_name": "Python 3",
   "language": "python",
   "name": "python3"
  },
  "language_info": {
   "codemirror_mode": {
    "name": "ipython",
    "version": 3
   },
   "file_extension": ".py",
   "mimetype": "text/x-python",
   "name": "python",
   "nbconvert_exporter": "python",
   "pygments_lexer": "ipython3",
   "version": "3.8.5"
  }
 },
 "nbformat": 4,
 "nbformat_minor": 4
}
